{
  "nbformat": 4,
  "nbformat_minor": 0,
  "metadata": {
    "colab": {
      "name": "0509.ipynb",
      "provenance": [],
      "authorship_tag": "ABX9TyMSoA8nR6M7L55zQvNUcP6j",
      "include_colab_link": true
    },
    "kernelspec": {
      "name": "python3",
      "display_name": "Python 3"
    },
    "language_info": {
      "name": "python"
    }
  },
  "cells": [
    {
      "cell_type": "markdown",
      "metadata": {
        "id": "view-in-github",
        "colab_type": "text"
      },
      "source": [
        "<a href=\"https://colab.research.google.com/github/Rebeccaa0208/Inroduction-to-Computer/blob/main/0509.ipynb\" target=\"_parent\"><img src=\"https://colab.research.google.com/assets/colab-badge.svg\" alt=\"Open In Colab\"/></a>"
      ]
    },
    {
      "cell_type": "code",
      "execution_count": 4,
      "metadata": {
        "id": "KNQR7KnbvHPd",
        "colab": {
          "base_uri": "https://localhost:8080/"
        },
        "outputId": "a22b8ea4-106d-473f-824a-d62c8e33c252"
      },
      "outputs": [
        {
          "output_type": "stream",
          "name": "stdout",
          "text": [
            "請輸入你的體溫33\n",
            "體溫異常,請重新量測\n"
          ]
        }
      ],
      "source": [
        "temp=float(input('請輸入你的體溫'))\n",
        "if temp>=37.5:\n",
        "    print('體溫過高')\n",
        "elif temp>=37 and temp <=37.4:\n",
        "    print('體溫略高')\n",
        "elif temp>=34 and temp <=36.:\n",
        "    print('體溫正常')\n",
        "else :\n",
        "    print('體溫異常,請重新量測')\n",
        "\n",
        "   "
      ]
    },
    {
      "cell_type": "code",
      "source": [
        "score=int(input('請輸入成績'))\n",
        "if score>=90:\n",
        "    print(\"A\")\n",
        "elif score>=80 and score<=89:\n",
        "    print(\"B\")\n",
        "elif score>=70 and score<=79:\n",
        "    print(\"C\")\n",
        "elif score>=60 and score<=69: \n",
        "    print(\"D\")   \n",
        "else :\n",
        "    print(\"E\")"
      ],
      "metadata": {
        "colab": {
          "base_uri": "https://localhost:8080/"
        },
        "id": "ht7L0kTzA07_",
        "outputId": "53c4f3ec-26cd-4dcf-9185-1a705c13406c"
      },
      "execution_count": 5,
      "outputs": [
        {
          "output_type": "stream",
          "name": "stdout",
          "text": [
            "請輸入成績58\n",
            "E\n"
          ]
        }
      ]
    },
    {
      "cell_type": "code",
      "source": [
        "money=int(input(\"請輸入購物金額\"))\n",
        "if (money>=10000):\n",
        "  if(money >=100000):\n",
        "    print(\"八折\",money*0.8,end=\"元\\n\")\n",
        "  elif(money>=50000):\n",
        "    print(\"八五折\",money*0.85,end=\"元\\n\")\n",
        "  elif(money>=30000): \n",
        "    print(\"九折\",money*0.9,end=\"元\\n\")\n",
        "  else:\n",
        "    print(\"九五折\",money*0.95,end=\"元\\n\")\n",
        "else:\n",
        "    print('沒打折',money,end=\"元\\n\")"
      ],
      "metadata": {
        "colab": {
          "base_uri": "https://localhost:8080/"
        },
        "id": "YGJPnPqiBC4_",
        "outputId": "e862c615-7a7f-4f40-988c-d09d0aa60155"
      },
      "execution_count": 9,
      "outputs": [
        {
          "output_type": "stream",
          "name": "stdout",
          "text": [
            "請輸入購物金額50000\n",
            "八五折 42500.0元\n"
          ]
        }
      ]
    },
    {
      "cell_type": "code",
      "source": [
        "month=int(input(\"請輸入月份\"))\n",
        "if (month in [3,4,5]):\n",
        "     print(month,\"月為天!\")\n",
        "elif (month in [6,7,8]):\n",
        "      print(month,\"月為夏天!\")\n",
        "elif (month in [9,10,11]):\n",
        "    print(month,\"月為秋天!\")\n",
        "elif (month in [12,1,2]):\n",
        "    print(month,\"月為冬天!\") \n",
        "else:   \n",
        "    print(\"月份不在範圍內!\")"
      ],
      "metadata": {
        "colab": {
          "base_uri": "https://localhost:8080/"
        },
        "id": "4OLZd9QoE9a-",
        "outputId": "66aa7176-df9d-46f6-bde1-c0d1e151e656"
      },
      "execution_count": 23,
      "outputs": [
        {
          "output_type": "stream",
          "name": "stdout",
          "text": [
            "請輸入月份13\n",
            "月份不在範圍內!\n"
          ]
        }
      ]
    },
    {
      "cell_type": "code",
      "source": [
        "earn=int(input(\"請輸入今年收入淨額:\"))\n",
        "if earn>=300000:\n",
        "    print(\"付稅金額：\",earn*0.06,end=\"元\\n\")\n",
        "elif earn>=600000:    \n",
        "    print(\"付稅金額：\",earn*0.13,end=\"元\\n\")\n",
        "elif earn>=1000000:    \n",
        "    print(\"付稅金額：\",earn*0.21,end=\"元\\n\")   \n",
        "elif earn>=2000000:    \n",
        "    print(\"付稅金額：\",earn*0.3,end=\"元\\n\") \n",
        "else:\n",
        "    print(\"付稅金額：\",earn*0,\"元\\n\")       "
      ],
      "metadata": {
        "colab": {
          "base_uri": "https://localhost:8080/"
        },
        "id": "M3S9z80IIPZW",
        "outputId": "3ebaef7f-09e3-45c3-f4dc-4709fe689b88"
      },
      "execution_count": 30,
      "outputs": [
        {
          "output_type": "stream",
          "name": "stdout",
          "text": [
            "請輸入今年收入淨額:500000\n",
            "付稅金額： 30000.0元\n"
          ]
        }
      ]
    }
  ]
}