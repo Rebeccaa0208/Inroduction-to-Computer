{
  "nbformat": 4,
  "nbformat_minor": 0,
  "metadata": {
    "colab": {
      "name": "0523.ipynb",
      "provenance": [],
      "authorship_tag": "ABX9TyMWumEhoMA3UvnG58CgzzVg",
      "include_colab_link": true
    },
    "kernelspec": {
      "name": "python3",
      "display_name": "Python 3"
    },
    "language_info": {
      "name": "python"
    }
  },
  "cells": [
    {
      "cell_type": "markdown",
      "metadata": {
        "id": "view-in-github",
        "colab_type": "text"
      },
      "source": [
        "<a href=\"https://colab.research.google.com/github/Rebeccaa0208/Inroduction-to-Computer/blob/main/0523.ipynb\" target=\"_parent\"><img src=\"https://colab.research.google.com/assets/colab-badge.svg\" alt=\"Open In Colab\"/></a>"
      ]
    },
    {
      "cell_type": "code",
      "execution_count": 1,
      "metadata": {
        "colab": {
          "base_uri": "https://localhost:8080/"
        },
        "id": "p6O6bQyZ_BOa",
        "outputId": "86891028-8b70-4ce1-b181-cfcaf0aa5413"
      },
      "outputs": [
        {
          "output_type": "stream",
          "name": "stdout",
          "text": [
            "請輸入一個正整數10\n",
            "1到 10 的整數何為 55\n"
          ]
        }
      ],
      "source": [
        "test=int(input(\"請輸入一個正整數\"))\n",
        "sum=0\n",
        "for n in range(1,test+1):\n",
        " sum=sum+n\n",
        "print('1到',test,\"的整數和為\",sum)"
      ]
    },
    {
      "cell_type": "code",
      "source": [
        "test=int(input(\"請輸入一個正整數\"))\n",
        "sum=0\n",
        "for n in range(1,test+1):\n",
        " sum=sum+n\n",
        " print(\"1到\",n,\"的正整數和為:\",sum, end='\\n')"
      ],
      "metadata": {
        "colab": {
          "base_uri": "https://localhost:8080/"
        },
        "id": "guxDxBcBBFH9",
        "outputId": "f81b36d4-5b43-402a-9ec7-d7bba470cc86"
      },
      "execution_count": 2,
      "outputs": [
        {
          "output_type": "stream",
          "name": "stdout",
          "text": [
            "請輸入一個正整數50\n",
            "1到 1 的正整數和為: 1\n",
            "1到 2 的正整數和為: 3\n",
            "1到 3 的正整數和為: 6\n",
            "1到 4 的正整數和為: 10\n",
            "1到 5 的正整數和為: 15\n",
            "1到 6 的正整數和為: 21\n",
            "1到 7 的正整數和為: 28\n",
            "1到 8 的正整數和為: 36\n",
            "1到 9 的正整數和為: 45\n",
            "1到 10 的正整數和為: 55\n",
            "1到 11 的正整數和為: 66\n",
            "1到 12 的正整數和為: 78\n",
            "1到 13 的正整數和為: 91\n",
            "1到 14 的正整數和為: 105\n",
            "1到 15 的正整數和為: 120\n",
            "1到 16 的正整數和為: 136\n",
            "1到 17 的正整數和為: 153\n",
            "1到 18 的正整數和為: 171\n",
            "1到 19 的正整數和為: 190\n",
            "1到 20 的正整數和為: 210\n",
            "1到 21 的正整數和為: 231\n",
            "1到 22 的正整數和為: 253\n",
            "1到 23 的正整數和為: 276\n",
            "1到 24 的正整數和為: 300\n",
            "1到 25 的正整數和為: 325\n",
            "1到 26 的正整數和為: 351\n",
            "1到 27 的正整數和為: 378\n",
            "1到 28 的正整數和為: 406\n",
            "1到 29 的正整數和為: 435\n",
            "1到 30 的正整數和為: 465\n",
            "1到 31 的正整數和為: 496\n",
            "1到 32 的正整數和為: 528\n",
            "1到 33 的正整數和為: 561\n",
            "1到 34 的正整數和為: 595\n",
            "1到 35 的正整數和為: 630\n",
            "1到 36 的正整數和為: 666\n",
            "1到 37 的正整數和為: 703\n",
            "1到 38 的正整數和為: 741\n",
            "1到 39 的正整數和為: 780\n",
            "1到 40 的正整數和為: 820\n",
            "1到 41 的正整數和為: 861\n",
            "1到 42 的正整數和為: 903\n",
            "1到 43 的正整數和為: 946\n",
            "1到 44 的正整數和為: 990\n",
            "1到 45 的正整數和為: 1035\n",
            "1到 46 的正整數和為: 1081\n",
            "1到 47 的正整數和為: 1128\n",
            "1到 48 的正整數和為: 1176\n",
            "1到 49 的正整數和為: 1225\n",
            "1到 50 的正整數和為: 1275\n"
          ]
        }
      ]
    },
    {
      "cell_type": "code",
      "source": [
        "for j in range(1,6):\n",
        "    print(j)\n",
        "    for i in range(1,3):\n",
        "        k=i*j\n",
        "        print(j,\"*\",i,\"=\",k)"
      ],
      "metadata": {
        "colab": {
          "base_uri": "https://localhost:8080/"
        },
        "id": "UCwBL_24CC-l",
        "outputId": "af32d2a4-8bce-4b2b-b1c6-74d1e93bbea9"
      },
      "execution_count": 4,
      "outputs": [
        {
          "output_type": "stream",
          "name": "stdout",
          "text": [
            "1\n",
            "1 * 1 = 1\n",
            "1 * 2 = 2\n",
            "2\n",
            "2 * 1 = 2\n",
            "2 * 2 = 4\n",
            "3\n",
            "3 * 1 = 3\n",
            "3 * 2 = 6\n",
            "4\n",
            "4 * 1 = 4\n",
            "4 * 2 = 8\n",
            "5\n",
            "5 * 1 = 5\n",
            "5 * 2 = 10\n"
          ]
        }
      ]
    },
    {
      "cell_type": "code",
      "source": [
        "for n in range(1,5):\n",
        "    if(n==4):\n",
        "        break     \n",
        "    print(n,end=\" \")    \n",
        "  "
      ],
      "metadata": {
        "colab": {
          "base_uri": "https://localhost:8080/"
        },
        "id": "TyECnhMuFmRD",
        "outputId": "61fac463-0a7b-407d-fc1c-f570d2eae01d"
      },
      "execution_count": 12,
      "outputs": [
        {
          "output_type": "stream",
          "name": "stdout",
          "text": [
            "1 2 3 "
          ]
        }
      ]
    },
    {
      "cell_type": "code",
      "source": [
        "count=0\n",
        "for string in \"測試看看\":\n",
        "    count+=1\n",
        "    if string==\"看\":\n",
        "        break\n",
        "    print(string)\n",
        "print(\"迴圈結束！\")\n",
        "print(\"迴圈執行了 %d 次\" %count)\n"
      ],
      "metadata": {
        "colab": {
          "base_uri": "https://localhost:8080/"
        },
        "id": "sR2QzIdNFu0s",
        "outputId": "1d172dd5-3a5e-4856-a00a-57e0c3ff8a7f"
      },
      "execution_count": 15,
      "outputs": [
        {
          "output_type": "stream",
          "name": "stdout",
          "text": [
            "測\n",
            "試\n",
            "迴圈結束！\n",
            "迴圈執行了 3 次\n"
          ]
        }
      ]
    },
    {
      "cell_type": "code",
      "source": [
        "count=0\n",
        "for string in \"Rebecca\":\n",
        "    count+=1\n",
        "    if string==\"c\":\n",
        "        break\n",
        "    print(string)\n",
        "print(\"迴圈結束！\")\n",
        "print(\"迴圈執行了 %d 次\" %count)\n"
      ],
      "metadata": {
        "colab": {
          "base_uri": "https://localhost:8080/"
        },
        "id": "qhavZA_3HdM0",
        "outputId": "6f8bb6aa-480d-4698-df25-cb49a50cbbaa"
      },
      "execution_count": 16,
      "outputs": [
        {
          "output_type": "stream",
          "name": "stdout",
          "text": [
            "R\n",
            "e\n",
            "b\n",
            "e\n",
            "迴圈結束！\n",
            "迴圈執行了 5 次\n"
          ]
        }
      ]
    },
    {
      "cell_type": "code",
      "source": [
        "for i in range(1,10):\n",
        "  print()\n",
        "  for j in range(2,10):\n",
        "      k=i*j\n",
        "      print(j,\"*\",i,\"=\",k,end=\"\\t\")  "
      ],
      "metadata": {
        "colab": {
          "base_uri": "https://localhost:8080/"
        },
        "id": "4BQueSAgHkx2",
        "outputId": "db525cc4-988a-4feb-cf0d-21d7abc399c5"
      },
      "execution_count": 28,
      "outputs": [
        {
          "output_type": "stream",
          "name": "stdout",
          "text": [
            "\n",
            "2 * 1 = 2\t3 * 1 = 3\t4 * 1 = 4\t5 * 1 = 5\t6 * 1 = 6\t7 * 1 = 7\t8 * 1 = 8\t9 * 1 = 9\t\n",
            "2 * 2 = 4\t3 * 2 = 6\t4 * 2 = 8\t5 * 2 = 10\t6 * 2 = 12\t7 * 2 = 14\t8 * 2 = 16\t9 * 2 = 18\t\n",
            "2 * 3 = 6\t3 * 3 = 9\t4 * 3 = 12\t5 * 3 = 15\t6 * 3 = 18\t7 * 3 = 21\t8 * 3 = 24\t9 * 3 = 27\t\n",
            "2 * 4 = 8\t3 * 4 = 12\t4 * 4 = 16\t5 * 4 = 20\t6 * 4 = 24\t7 * 4 = 28\t8 * 4 = 32\t9 * 4 = 36\t\n",
            "2 * 5 = 10\t3 * 5 = 15\t4 * 5 = 20\t5 * 5 = 25\t6 * 5 = 30\t7 * 5 = 35\t8 * 5 = 40\t9 * 5 = 45\t\n",
            "2 * 6 = 12\t3 * 6 = 18\t4 * 6 = 24\t5 * 6 = 30\t6 * 6 = 36\t7 * 6 = 42\t8 * 6 = 48\t9 * 6 = 54\t\n",
            "2 * 7 = 14\t3 * 7 = 21\t4 * 7 = 28\t5 * 7 = 35\t6 * 7 = 42\t7 * 7 = 49\t8 * 7 = 56\t9 * 7 = 63\t\n",
            "2 * 8 = 16\t3 * 8 = 24\t4 * 8 = 32\t5 * 8 = 40\t6 * 8 = 48\t7 * 8 = 56\t8 * 8 = 64\t9 * 8 = 72\t\n",
            "2 * 9 = 18\t3 * 9 = 27\t4 * 9 = 36\t5 * 9 = 45\t6 * 9 = 54\t7 * 9 = 63\t8 * 9 = 72\t9 * 9 = 81\t"
          ]
        }
      ]
    },
    {
      "cell_type": "code",
      "source": [
        "a=int(input(\"請輸入a的值\"))\n",
        "b=int(input(\"請輸入b的值\"))\n",
        "max=a*b\n",
        "for i in range(1,max):\n",
        "    if(i%a==0 and i%b==0):\n",
        "        break\n",
        "print(\"%d 和%d 的最小公倍數=%d\"  % (a,b,i))"
      ],
      "metadata": {
        "colab": {
          "base_uri": "https://localhost:8080/"
        },
        "id": "_Dtq7yN9KgRI",
        "outputId": "2ea91673-654f-43df-d83d-21f00485003d"
      },
      "execution_count": 45,
      "outputs": [
        {
          "output_type": "stream",
          "name": "stdout",
          "text": [
            "請輸入a的值4\n",
            "請輸入b的值6\n",
            "4 和6 的最小公倍數=12\n"
          ]
        }
      ]
    },
    {
      "cell_type": "code",
      "source": [
        "a=int(input(\"請輸入a的值\"))\n",
        "b=int(input(\"請輸入b的值\"))\n",
        "max=a*b\n",
        "for i in range(1,max):\n",
        "    if(i%a==0 and i%b==0):\n",
        "        break\n",
        "print(\"%d 和%d 的最小公倍數=%d\"  % (a,b,i))"
      ],
      "metadata": {
        "colab": {
          "base_uri": "https://localhost:8080/"
        },
        "id": "EaRRoG6DPwTy",
        "outputId": "29c2e8b9-8ca6-4647-fc97-ac5dab7f8de4"
      },
      "execution_count": 46,
      "outputs": [
        {
          "output_type": "stream",
          "name": "stdout",
          "text": [
            "請輸入a的值9\n",
            "請輸入b的值15\n",
            "9 和15 的最小公倍數=45\n"
          ]
        }
      ]
    },
    {
      "cell_type": "code",
      "source": [
        "c=int(input(\"請輸入正整數:\"))\n",
        "for i in range (1,c+1):\n",
        "    if (i%5==0):\n",
        "        continue\n",
        "    print(i,end=\" \")        "
      ],
      "metadata": {
        "colab": {
          "base_uri": "https://localhost:8080/"
        },
        "id": "ftnIEjs8P3Pk",
        "outputId": "a8ed0034-eb17-4510-f9f8-ec5c10d9465d"
      },
      "execution_count": 49,
      "outputs": [
        {
          "output_type": "stream",
          "name": "stdout",
          "text": [
            "請輸入正整數:12\n",
            "1 2 3 4 6 7 8 9 11 12 "
          ]
        }
      ]
    },
    {
      "cell_type": "code",
      "source": [
        "c=int(input(\"請輸入正整數:\"))\n",
        "for i in range (1,c+1):\n",
        "    if (i%5==0):\n",
        "        continue\n",
        "    print(i,end=\" \")        \n",
        "    "
      ],
      "metadata": {
        "colab": {
          "base_uri": "https://localhost:8080/"
        },
        "id": "lgUpbnaYRfgy",
        "outputId": "8973f0c0-5059-45ab-f79b-9951c75051d8"
      },
      "execution_count": 50,
      "outputs": [
        {
          "output_type": "stream",
          "name": "stdout",
          "text": [
            "請輸入正整數:25\n",
            "1 2 3 4 6 7 8 9 11 12 13 14 16 17 18 19 21 22 23 24 "
          ]
        }
      ]
    }
  ]
}